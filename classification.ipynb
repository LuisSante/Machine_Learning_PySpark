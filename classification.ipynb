{
 "cells": [
  {
   "cell_type": "markdown",
   "metadata": {},
   "source": [
    "## __1. Setup Spark and load other libraries__"
   ]
  },
  {
   "cell_type": "code",
   "execution_count": 30,
   "metadata": {},
   "outputs": [],
   "source": [
    "import pyspark \n",
    "import seaborn as sns\n",
    "import matplotlib.pyplot as plt\n",
    "import numpy as np\n",
    "%matplotlib inline\n",
    "np.random.seed(60)\n",
    "\n",
    "import pandas as pd\n",
    "from pyspark.sql.functions import col\n",
    "from pyspark.ml.feature import StringIndexer, OneHotEncoder\n",
    "from pyspark.ml.feature import VectorAssembler, StandardScaler\n",
    "from pyspark.ml.evaluation import MulticlassClassificationEvaluator \n",
    "from pyspark.ml import Pipeline\n",
    "from pyspark.ml.classification import LogisticRegression"
   ]
  },
  {
   "cell_type": "code",
   "execution_count": 31,
   "metadata": {},
   "outputs": [],
   "source": [
    "spark = pyspark.sql.SparkSession.builder \\\n",
    "    .appName(\"Crime_Classification\") \\\n",
    "    .config(\"spark.executor.memory\", \"4g\") \\\n",
    "    .config(\"spark.driver.memory\", \"4g\") \\\n",
    "    .getOrCreate()\n",
    "sc = spark.sparkContext"
   ]
  },
  {
   "cell_type": "markdown",
   "metadata": {},
   "source": [
    "## __2. Data Extraction__"
   ]
  },
  {
   "cell_type": "code",
   "execution_count": 32,
   "metadata": {},
   "outputs": [],
   "source": [
    "crime_dataset = pd.read_csv('train.csv')\n",
    "crime_dataset['Latlong'] = crime_dataset['X']*crime_dataset['Y']\n",
    "crime_dataset.drop(['X','Y','Dates'],axis='columns',inplace=True)"
   ]
  },
  {
   "cell_type": "code",
   "execution_count": 33,
   "metadata": {},
   "outputs": [
    {
     "data": {
      "text/html": [
       "<div>\n",
       "<style scoped>\n",
       "    .dataframe tbody tr th:only-of-type {\n",
       "        vertical-align: middle;\n",
       "    }\n",
       "\n",
       "    .dataframe tbody tr th {\n",
       "        vertical-align: top;\n",
       "    }\n",
       "\n",
       "    .dataframe thead th {\n",
       "        text-align: right;\n",
       "    }\n",
       "</style>\n",
       "<table border=\"1\" class=\"dataframe\">\n",
       "  <thead>\n",
       "    <tr style=\"text-align: right;\">\n",
       "      <th></th>\n",
       "      <th>Category</th>\n",
       "      <th>Descript</th>\n",
       "      <th>DayOfWeek</th>\n",
       "      <th>PdDistrict</th>\n",
       "      <th>Resolution</th>\n",
       "      <th>Address</th>\n",
       "      <th>Latlong</th>\n",
       "    </tr>\n",
       "  </thead>\n",
       "  <tbody>\n",
       "    <tr>\n",
       "      <th>0</th>\n",
       "      <td>WARRANTS</td>\n",
       "      <td>WARRANT ARREST</td>\n",
       "      <td>Wednesday</td>\n",
       "      <td>NORTHERN</td>\n",
       "      <td>ARREST, BOOKED</td>\n",
       "      <td>OAK ST / LAGUNA ST</td>\n",
       "      <td>-4624.588916</td>\n",
       "    </tr>\n",
       "    <tr>\n",
       "      <th>1</th>\n",
       "      <td>OTHER OFFENSES</td>\n",
       "      <td>TRAFFIC VIOLATION ARREST</td>\n",
       "      <td>Wednesday</td>\n",
       "      <td>NORTHERN</td>\n",
       "      <td>ARREST, BOOKED</td>\n",
       "      <td>OAK ST / LAGUNA ST</td>\n",
       "      <td>-4624.588916</td>\n",
       "    </tr>\n",
       "    <tr>\n",
       "      <th>2</th>\n",
       "      <td>OTHER OFFENSES</td>\n",
       "      <td>TRAFFIC VIOLATION ARREST</td>\n",
       "      <td>Wednesday</td>\n",
       "      <td>NORTHERN</td>\n",
       "      <td>ARREST, BOOKED</td>\n",
       "      <td>VANNESS AV / GREENWICH ST</td>\n",
       "      <td>-4627.691645</td>\n",
       "    </tr>\n",
       "    <tr>\n",
       "      <th>3</th>\n",
       "      <td>LARCENY/THEFT</td>\n",
       "      <td>GRAND THEFT FROM LOCKED AUTO</td>\n",
       "      <td>Wednesday</td>\n",
       "      <td>NORTHERN</td>\n",
       "      <td>NONE</td>\n",
       "      <td>1500 Block of LOMBARD ST</td>\n",
       "      <td>-4627.847257</td>\n",
       "    </tr>\n",
       "    <tr>\n",
       "      <th>4</th>\n",
       "      <td>LARCENY/THEFT</td>\n",
       "      <td>GRAND THEFT FROM LOCKED AUTO</td>\n",
       "      <td>Wednesday</td>\n",
       "      <td>PARK</td>\n",
       "      <td>NONE</td>\n",
       "      <td>100 Block of BRODERICK ST</td>\n",
       "      <td>-4624.699819</td>\n",
       "    </tr>\n",
       "    <tr>\n",
       "      <th>...</th>\n",
       "      <td>...</td>\n",
       "      <td>...</td>\n",
       "      <td>...</td>\n",
       "      <td>...</td>\n",
       "      <td>...</td>\n",
       "      <td>...</td>\n",
       "      <td>...</td>\n",
       "    </tr>\n",
       "    <tr>\n",
       "      <th>878044</th>\n",
       "      <td>ROBBERY</td>\n",
       "      <td>ROBBERY ON THE STREET WITH A GUN</td>\n",
       "      <td>Monday</td>\n",
       "      <td>TARAVAL</td>\n",
       "      <td>NONE</td>\n",
       "      <td>FARALLONES ST / CAPITOL AV</td>\n",
       "      <td>-4618.426865</td>\n",
       "    </tr>\n",
       "    <tr>\n",
       "      <th>878045</th>\n",
       "      <td>LARCENY/THEFT</td>\n",
       "      <td>GRAND THEFT FROM LOCKED AUTO</td>\n",
       "      <td>Monday</td>\n",
       "      <td>INGLESIDE</td>\n",
       "      <td>NONE</td>\n",
       "      <td>600 Block of EDNA ST</td>\n",
       "      <td>-4620.177499</td>\n",
       "    </tr>\n",
       "    <tr>\n",
       "      <th>878046</th>\n",
       "      <td>LARCENY/THEFT</td>\n",
       "      <td>GRAND THEFT FROM LOCKED AUTO</td>\n",
       "      <td>Monday</td>\n",
       "      <td>SOUTHERN</td>\n",
       "      <td>NONE</td>\n",
       "      <td>5TH ST / FOLSOM ST</td>\n",
       "      <td>-4624.432596</td>\n",
       "    </tr>\n",
       "    <tr>\n",
       "      <th>878047</th>\n",
       "      <td>VANDALISM</td>\n",
       "      <td>MALICIOUS MISCHIEF, VANDALISM OF VEHICLES</td>\n",
       "      <td>Monday</td>\n",
       "      <td>SOUTHERN</td>\n",
       "      <td>NONE</td>\n",
       "      <td>TOWNSEND ST / 2ND ST</td>\n",
       "      <td>-4623.988577</td>\n",
       "    </tr>\n",
       "    <tr>\n",
       "      <th>878048</th>\n",
       "      <td>FORGERY/COUNTERFEITING</td>\n",
       "      <td>CHECKS, FORGERY (FELONY)</td>\n",
       "      <td>Monday</td>\n",
       "      <td>BAYVIEW</td>\n",
       "      <td>NONE</td>\n",
       "      <td>1800 Block of NEWCOMB AV</td>\n",
       "      <td>-4618.965598</td>\n",
       "    </tr>\n",
       "  </tbody>\n",
       "</table>\n",
       "<p>878049 rows × 7 columns</p>\n",
       "</div>"
      ],
      "text/plain": [
       "                      Category                                   Descript  \\\n",
       "0                     WARRANTS                             WARRANT ARREST   \n",
       "1               OTHER OFFENSES                   TRAFFIC VIOLATION ARREST   \n",
       "2               OTHER OFFENSES                   TRAFFIC VIOLATION ARREST   \n",
       "3                LARCENY/THEFT               GRAND THEFT FROM LOCKED AUTO   \n",
       "4                LARCENY/THEFT               GRAND THEFT FROM LOCKED AUTO   \n",
       "...                        ...                                        ...   \n",
       "878044                 ROBBERY           ROBBERY ON THE STREET WITH A GUN   \n",
       "878045           LARCENY/THEFT               GRAND THEFT FROM LOCKED AUTO   \n",
       "878046           LARCENY/THEFT               GRAND THEFT FROM LOCKED AUTO   \n",
       "878047               VANDALISM  MALICIOUS MISCHIEF, VANDALISM OF VEHICLES   \n",
       "878048  FORGERY/COUNTERFEITING                   CHECKS, FORGERY (FELONY)   \n",
       "\n",
       "        DayOfWeek PdDistrict      Resolution                     Address  \\\n",
       "0       Wednesday   NORTHERN  ARREST, BOOKED          OAK ST / LAGUNA ST   \n",
       "1       Wednesday   NORTHERN  ARREST, BOOKED          OAK ST / LAGUNA ST   \n",
       "2       Wednesday   NORTHERN  ARREST, BOOKED   VANNESS AV / GREENWICH ST   \n",
       "3       Wednesday   NORTHERN            NONE    1500 Block of LOMBARD ST   \n",
       "4       Wednesday       PARK            NONE   100 Block of BRODERICK ST   \n",
       "...           ...        ...             ...                         ...   \n",
       "878044     Monday    TARAVAL            NONE  FARALLONES ST / CAPITOL AV   \n",
       "878045     Monday  INGLESIDE            NONE        600 Block of EDNA ST   \n",
       "878046     Monday   SOUTHERN            NONE          5TH ST / FOLSOM ST   \n",
       "878047     Monday   SOUTHERN            NONE        TOWNSEND ST / 2ND ST   \n",
       "878048     Monday    BAYVIEW            NONE    1800 Block of NEWCOMB AV   \n",
       "\n",
       "            Latlong  \n",
       "0      -4624.588916  \n",
       "1      -4624.588916  \n",
       "2      -4627.691645  \n",
       "3      -4627.847257  \n",
       "4      -4624.699819  \n",
       "...             ...  \n",
       "878044 -4618.426865  \n",
       "878045 -4620.177499  \n",
       "878046 -4624.432596  \n",
       "878047 -4623.988577  \n",
       "878048 -4618.965598  \n",
       "\n",
       "[878049 rows x 7 columns]"
      ]
     },
     "execution_count": 33,
     "metadata": {},
     "output_type": "execute_result"
    }
   ],
   "source": [
    "crime_dataset"
   ]
  },
  {
   "cell_type": "code",
   "execution_count": 34,
   "metadata": {},
   "outputs": [],
   "source": [
    "new_data = crime_dataset.to_csv('preproccesing_data.csv', index=False)"
   ]
  },
  {
   "cell_type": "markdown",
   "metadata": {},
   "source": [
    "# __3.Define Structure to build Pipeline__"
   ]
  },
  {
   "cell_type": "code",
   "execution_count": 35,
   "metadata": {},
   "outputs": [],
   "source": [
    "df = spark.read.format('csv')\\\n",
    "          .option('header','true')\\\n",
    "          .option('inferSchema', 'true')\\\n",
    "          .option('timestamp', 'true')\\\n",
    "          .load('preproccesing_data.csv')\n"
   ]
  },
  {
   "cell_type": "code",
   "execution_count": 36,
   "metadata": {},
   "outputs": [
    {
     "data": {
      "text/plain": [
       "['Category',\n",
       " 'Descript',\n",
       " 'DayOfWeek',\n",
       " 'PdDistrict',\n",
       " 'Resolution',\n",
       " 'Address',\n",
       " 'Latlong']"
      ]
     },
     "execution_count": 36,
     "metadata": {},
     "output_type": "execute_result"
    }
   ],
   "source": [
    "df.columns"
   ]
  },
  {
   "cell_type": "code",
   "execution_count": 37,
   "metadata": {},
   "outputs": [
    {
     "name": "stdout",
     "output_type": "stream",
     "text": [
      "Dataframe Structure\n",
      "----------------------------------\n",
      "root\n",
      " |-- Category: string (nullable = true)\n",
      " |-- Descript: string (nullable = true)\n",
      " |-- DayOfWeek: string (nullable = true)\n",
      " |-- PdDistrict: string (nullable = true)\n",
      " |-- Resolution: string (nullable = true)\n",
      " |-- Address: string (nullable = true)\n",
      " |-- Latlong: double (nullable = true)\n",
      "\n",
      "None\n",
      " \n",
      "Dataframe preview\n",
      "+--------------+--------------------+---------+----------+--------------+--------------------+------------------+\n",
      "|      Category|            Descript|DayOfWeek|PdDistrict|    Resolution|             Address|           Latlong|\n",
      "+--------------+--------------------+---------+----------+--------------+--------------------+------------------+\n",
      "|      WARRANTS|      WARRANT ARREST|Wednesday|  NORTHERN|ARREST, BOOKED|  OAK ST / LAGUNA ST|-4624.588915745816|\n",
      "|OTHER OFFENSES|TRAFFIC VIOLATION...|Wednesday|  NORTHERN|ARREST, BOOKED|  OAK ST / LAGUNA ST|-4624.588915745816|\n",
      "|OTHER OFFENSES|TRAFFIC VIOLATION...|Wednesday|  NORTHERN|ARREST, BOOKED|VANNESS AV / GREE...|-4627.691645315983|\n",
      "| LARCENY/THEFT|GRAND THEFT FROM ...|Wednesday|  NORTHERN|          NONE|1500 Block of LOM...|-4627.847257159713|\n",
      "| LARCENY/THEFT|GRAND THEFT FROM ...|Wednesday|      PARK|          NONE|100 Block of BROD...|-4624.699819172749|\n",
      "+--------------+--------------------+---------+----------+--------------+--------------------+------------------+\n",
      "only showing top 5 rows\n",
      "\n",
      "None\n",
      " \n",
      "----------------------------------\n",
      "Total number of rows 878049\n"
     ]
    }
   ],
   "source": [
    "print('Dataframe Structure')\n",
    "print('----------------------------------')\n",
    "print(df.printSchema())\n",
    "print(' ')\n",
    "print('Dataframe preview')\n",
    "print(df.show(5))\n",
    "print(' ')\n",
    "print('----------------------------------')\n",
    "print('Total number of rows', df.count())"
   ]
  },
  {
   "cell_type": "code",
   "execution_count": 38,
   "metadata": {},
   "outputs": [
    {
     "name": "stdout",
     "output_type": "stream",
     "text": [
      "Total number of unique value of Resolution: 17\n",
      " \n",
      "Top 12 Crime Resolution\n",
      "+--------------------+----------+\n",
      "|          Resolution|totalValue|\n",
      "+--------------------+----------+\n",
      "|                NONE|    526790|\n",
      "|      ARREST, BOOKED|    206403|\n",
      "|       ARREST, CITED|     77004|\n",
      "|             LOCATED|     17101|\n",
      "|   PSYCHOPATHIC CASE|     14534|\n",
      "|           UNFOUNDED|      9585|\n",
      "|     JUVENILE BOOKED|      5564|\n",
      "|COMPLAINANT REFUS...|      3976|\n",
      "|DISTRICT ATTORNEY...|      3934|\n",
      "|      NOT PROSECUTED|      3714|\n",
      "|      JUVENILE CITED|      3332|\n",
      "|PROSECUTED BY OUT...|      2504|\n",
      "+--------------------+----------+\n",
      "only showing top 12 rows\n",
      "\n"
     ]
    }
   ],
   "source": [
    "def top_n_list(df,name_column, N):\n",
    "    print(\"Total number of unique value of\"+' '+name_column+''+':'+' '+str(df.select(name_column).distinct().count()))\n",
    "    print(' ')\n",
    "    print('Top'+' '+str(N)+' '+'Crime'+' '+name_column)\n",
    "    df.groupBy(name_column).count().withColumnRenamed('count','totalValue').orderBy(col('totalValue').desc()).show(N)\n",
    "    \n",
    "    \n",
    "top_n_list(df, 'Resolution',12)\n"
   ]
  },
  {
   "cell_type": "markdown",
   "metadata": {},
   "source": [
    "## __4. Partition the dataset into Training and Test dataset__"
   ]
  },
  {
   "cell_type": "code",
   "execution_count": 39,
   "metadata": {},
   "outputs": [],
   "source": [
    "from pyspark.ml.feature import VectorAssembler, StandardScaler\n",
    "from pyspark.ml.evaluation import MulticlassClassificationEvaluator \n",
    "from pyspark.ml import Pipeline\n",
    "from pyspark.ml.classification import LogisticRegression"
   ]
  },
  {
   "cell_type": "code",
   "execution_count": 40,
   "metadata": {},
   "outputs": [],
   "source": [
    "# Creando una lista de columnas categóricas, excluyendo 'Category'\n",
    "categorical_columns = ['Descript','DayOfWeek','PdDistrict','Resolution','Address']"
   ]
  },
  {
   "cell_type": "code",
   "execution_count": 43,
   "metadata": {},
   "outputs": [],
   "source": [
    "indexers = [StringIndexer(inputCol=column, outputCol=column+\"_index\").fit(df) for column in categorical_columns]\n",
    "\n",
    "encoder = OneHotEncoder(inputCols=[indexer.getOutputCol() for indexer in indexers],\n",
    "                        outputCols=[column+\"_ohe\" for column in categorical_columns])\n",
    "\n",
    "# Agregar un StringIndexer solo para 'Category'\n",
    "category_indexer = StringIndexer(inputCol=\"Category\", outputCol=\"Category_index\").fit(df)\n",
    "\n",
    "pipeline = Pipeline(stages=indexers + [encoder, category_indexer])\n"
   ]
  },
  {
   "cell_type": "code",
   "execution_count": 44,
   "metadata": {},
   "outputs": [],
   "source": [
    "df = pipeline.fit(df).transform(df)"
   ]
  },
  {
   "cell_type": "code",
   "execution_count": 45,
   "metadata": {},
   "outputs": [
    {
     "name": "stdout",
     "output_type": "stream",
     "text": [
      "+--------------+--------------------+---------+----------+--------------+--------------------+-------------------+--------------+---------------+----------------+----------------+-------------+-----------------+-------------+--------------+--------------+--------------------+--------------+\n",
      "|      Category|            Descript|DayOfWeek|PdDistrict|    Resolution|             Address|            Latlong|Descript_index|DayOfWeek_index|PdDistrict_index|Resolution_index|Address_index|     Descript_ohe|DayOfWeek_ohe|PdDistrict_ohe|Resolution_ohe|         Address_ohe|Category_index|\n",
      "+--------------+--------------------+---------+----------+--------------+--------------------+-------------------+--------------+---------------+----------------+----------------+-------------+-----------------+-------------+--------------+--------------+--------------------+--------------+\n",
      "|      WARRANTS|      WARRANT ARREST|Wednesday|  NORTHERN|ARREST, BOOKED|  OAK ST / LAGUNA ST| -4624.588915745816|           5.0|            1.0|             2.0|             1.0|       4066.0|  (878,[5],[1.0])|(6,[1],[1.0])| (9,[2],[1.0])|(16,[1],[1.0])|(23227,[4066],[1.0])|           7.0|\n",
      "|OTHER OFFENSES|TRAFFIC VIOLATION...|Wednesday|  NORTHERN|ARREST, BOOKED|  OAK ST / LAGUNA ST| -4624.588915745816|          44.0|            1.0|             2.0|             1.0|       4066.0| (878,[44],[1.0])|(6,[1],[1.0])| (9,[2],[1.0])|(16,[1],[1.0])|(23227,[4066],[1.0])|           1.0|\n",
      "|OTHER OFFENSES|TRAFFIC VIOLATION...|Wednesday|  NORTHERN|ARREST, BOOKED|VANNESS AV / GREE...| -4627.691645315983|          44.0|            1.0|             2.0|             1.0|       7793.0| (878,[44],[1.0])|(6,[1],[1.0])| (9,[2],[1.0])|(16,[1],[1.0])|(23227,[7793],[1.0])|           1.0|\n",
      "| LARCENY/THEFT|GRAND THEFT FROM ...|Wednesday|  NORTHERN|          NONE|1500 Block of LOM...| -4627.847257159713|           0.0|            1.0|             2.0|             0.0|        926.0|  (878,[0],[1.0])|(6,[1],[1.0])| (9,[2],[1.0])|(16,[0],[1.0])| (23227,[926],[1.0])|           0.0|\n",
      "| LARCENY/THEFT|GRAND THEFT FROM ...|Wednesday|      PARK|          NONE|100 Block of BROD...| -4624.699819172749|           0.0|            1.0|             8.0|             0.0|       3376.0|  (878,[0],[1.0])|(6,[1],[1.0])| (9,[8],[1.0])|(16,[0],[1.0])|(23227,[3376],[1.0])|           0.0|\n",
      "| LARCENY/THEFT|GRAND THEFT FROM ...|Wednesday| INGLESIDE|          NONE| 0 Block of TEDDY AV| -4616.246575882992|          53.0|            1.0|             6.0|             0.0|       2485.0| (878,[53],[1.0])|(6,[1],[1.0])| (9,[6],[1.0])|(16,[0],[1.0])|(23227,[2485],[1.0])|           0.0|\n",
      "| VEHICLE THEFT|   STOLEN AUTOMOBILE|Wednesday| INGLESIDE|          NONE| AVALON AV / PERU AV| -4618.436909557107|           3.0|            1.0|             6.0|             0.0|      21708.0|  (878,[3],[1.0])|(6,[1],[1.0])| (9,[6],[1.0])|(16,[0],[1.0])|(23227,[21708],[1...|           5.0|\n",
      "| VEHICLE THEFT|   STOLEN AUTOMOBILE|Wednesday|   BAYVIEW|          NONE|KIRKWOOD AV / DON...| -4616.770092377645|           3.0|            1.0|             3.0|             0.0|      17683.0|  (878,[3],[1.0])|(6,[1],[1.0])| (9,[3],[1.0])|(16,[0],[1.0])|(23227,[17683],[1...|           5.0|\n",
      "| LARCENY/THEFT|GRAND THEFT FROM ...|Wednesday|  RICHMOND|          NONE|600 Block of 47TH AV| -4627.943197079671|           0.0|            1.0|             9.0|             0.0|       8254.0|  (878,[0],[1.0])|(6,[1],[1.0])|     (9,[],[])|(16,[0],[1.0])|(23227,[8254],[1.0])|           0.0|\n",
      "| LARCENY/THEFT|GRAND THEFT FROM ...|Wednesday|   CENTRAL|          NONE|JEFFERSON ST / LE...|-4628.3965730166765|           0.0|            1.0|             4.0|             0.0|       6174.0|  (878,[0],[1.0])|(6,[1],[1.0])| (9,[4],[1.0])|(16,[0],[1.0])|(23227,[6174],[1.0])|           0.0|\n",
      "| LARCENY/THEFT|PETTY THEFT FROM ...|Wednesday|   CENTRAL|          NONE|JEFFERSON ST / LE...|-4628.3965730166765|           8.0|            1.0|             4.0|             0.0|       6174.0|  (878,[8],[1.0])|(6,[1],[1.0])| (9,[4],[1.0])|(16,[0],[1.0])|(23227,[6174],[1.0])|           0.0|\n",
      "|OTHER OFFENSES|MISCELLANEOUS INV...|Wednesday|   TARAVAL|          NONE|0 Block of ESCOLT...| -4622.410674362006|          26.0|            1.0|             7.0|             0.0|      12892.0| (878,[26],[1.0])|(6,[1],[1.0])| (9,[7],[1.0])|(16,[0],[1.0])|(23227,[12892],[1...|           1.0|\n",
      "|     VANDALISM|MALICIOUS MISCHIE...|Wednesday|TENDERLOIN|          NONE|  TURK ST / JONES ST|-4625.1087128539075|           9.0|            1.0|             5.0|             0.0|        151.0|  (878,[9],[1.0])|(6,[1],[1.0])| (9,[5],[1.0])|(16,[0],[1.0])| (23227,[151],[1.0])|           6.0|\n",
      "| LARCENY/THEFT|GRAND THEFT FROM ...|Wednesday|  NORTHERN|          NONE|FILLMORE ST / GEA...| -4626.048506149743|           0.0|            1.0|             2.0|             0.0|        492.0|  (878,[0],[1.0])|(6,[1],[1.0])| (9,[2],[1.0])|(16,[0],[1.0])| (23227,[492],[1.0])|           0.0|\n",
      "|  NON-CRIMINAL|      FOUND PROPERTY|Wednesday|   BAYVIEW|          NONE|200 Block of WILL...| -4618.058903879079|          14.0|            1.0|             3.0|             0.0|        123.0| (878,[14],[1.0])|(6,[1],[1.0])| (9,[3],[1.0])|(16,[0],[1.0])| (23227,[123],[1.0])|           2.0|\n",
      "|  NON-CRIMINAL|      FOUND PROPERTY|Wednesday|   BAYVIEW|          NONE|0 Block of MENDEL...| -4619.150804091306|          14.0|            1.0|             3.0|             0.0|       6032.0| (878,[14],[1.0])|(6,[1],[1.0])| (9,[3],[1.0])|(16,[0],[1.0])|(23227,[6032],[1.0])|           2.0|\n",
      "|       ROBBERY|ROBBERY, ARMED WI...|Wednesday|TENDERLOIN|          NONE|  EDDY ST / JONES ST| -4625.229258637182|         190.0|            1.0|             5.0|             0.0|        426.0|(878,[190],[1.0])|(6,[1],[1.0])| (9,[5],[1.0])|(16,[0],[1.0])| (23227,[426],[1.0])|          11.0|\n",
      "|       ASSAULT|AGGRAVATED ASSAUL...|Wednesday| INGLESIDE|          NONE|GODEUS ST / MISSI...|-4620.5397595304585|          47.0|            1.0|             6.0|             0.0|      20315.0| (878,[47],[1.0])|(6,[1],[1.0])| (9,[6],[1.0])|(16,[0],[1.0])|(23227,[20315],[1...|           3.0|\n",
      "|OTHER OFFENSES|   TRAFFIC VIOLATION|Wednesday|   BAYVIEW|ARREST, BOOKED|MENDELL ST / HUDS...| -4618.738361962875|          10.0|            1.0|             3.0|             1.0|       6004.0| (878,[10],[1.0])|(6,[1],[1.0])| (9,[3],[1.0])|(16,[1],[1.0])|(23227,[6004],[1.0])|           1.0|\n",
      "|  NON-CRIMINAL|      FOUND PROPERTY|Wednesday|TENDERLOIN|          NONE|100 Block of JONE...| -4625.047722352388|          14.0|            1.0|             5.0|             0.0|        100.0| (878,[14],[1.0])|(6,[1],[1.0])| (9,[5],[1.0])|(16,[0],[1.0])| (23227,[100],[1.0])|           2.0|\n",
      "+--------------+--------------------+---------+----------+--------------+--------------------+-------------------+--------------+---------------+----------------+----------------+-------------+-----------------+-------------+--------------+--------------+--------------------+--------------+\n",
      "only showing top 20 rows\n",
      "\n"
     ]
    }
   ],
   "source": [
    "df.show()"
   ]
  },
  {
   "cell_type": "code",
   "execution_count": 46,
   "metadata": {},
   "outputs": [],
   "source": [
    "# Updating feature_columns\n",
    "feature_columns = [column+\"_ohe\" for column in categorical_columns] + ['Latlong']\n",
    "\n",
    "(train_data, test_data) = df.randomSplit([0.7, 0.3])"
   ]
  },
  {
   "cell_type": "code",
   "execution_count": 47,
   "metadata": {},
   "outputs": [
    {
     "data": {
      "text/plain": [
       "['Descript_ohe',\n",
       " 'DayOfWeek_ohe',\n",
       " 'PdDistrict_ohe',\n",
       " 'Resolution_ohe',\n",
       " 'Address_ohe',\n",
       " 'Latlong']"
      ]
     },
     "execution_count": 47,
     "metadata": {},
     "output_type": "execute_result"
    }
   ],
   "source": [
    "feature_columns"
   ]
  },
  {
   "cell_type": "code",
   "execution_count": 48,
   "metadata": {},
   "outputs": [],
   "source": [
    "assembler = VectorAssembler(inputCols=feature_columns, outputCol=\"features\")\n",
    "\n",
    "scaler = StandardScaler(inputCol=\"features\", outputCol=\"scaledFeatures\", withStd=True, withMean=False)\n",
    "\n",
    "lr = LogisticRegression(featuresCol='scaledFeatures', labelCol='Category_index', maxIter=10)\n",
    "\n",
    "pipeline = Pipeline(stages=[assembler, scaler, lr])"
   ]
  },
  {
   "cell_type": "code",
   "execution_count": 49,
   "metadata": {},
   "outputs": [],
   "source": [
    "model = pipeline.fit(train_data)"
   ]
  },
  {
   "cell_type": "code",
   "execution_count": 50,
   "metadata": {},
   "outputs": [
    {
     "name": "stdout",
     "output_type": "stream",
     "text": [
      "+--------+--------+---------+----------+-----------------+--------------------+-------------------+--------------+---------------+----------------+----------------+-------------+-----------------+-------------+--------------+--------------+--------------------+--------------+--------------------+--------------------+--------------------+--------------------+----------+\n",
      "|Category|Descript|DayOfWeek|PdDistrict|       Resolution|             Address|            Latlong|Descript_index|DayOfWeek_index|PdDistrict_index|Resolution_index|Address_index|     Descript_ohe|DayOfWeek_ohe|PdDistrict_ohe|Resolution_ohe|         Address_ohe|Category_index|            features|      scaledFeatures|       rawPrediction|         probability|prediction|\n",
      "+--------+--------+---------+----------+-----------------+--------------------+-------------------+--------------+---------------+----------------+----------------+-------------+-----------------+-------------+--------------+--------------+--------------------+--------------+--------------------+--------------------+--------------------+--------------------+----------+\n",
      "|   ARSON|   ARSON|   Friday|   CENTRAL|             NONE| 700 Block of BAY ST| -4628.044098595719|         196.0|            0.0|             4.0|             0.0|       4035.0|(878,[196],[1.0])|(6,[0],[1.0])| (9,[4],[1.0])|(16,[0],[1.0])|(23227,[4035],[1.0])|          27.0|(24137,[196,878,8...|(24137,[196,878,8...|[3.05127242891747...|[1.57958556092414...|      27.0|\n",
      "|   ARSON|   ARSON|   Friday|   MISSION|             NONE|1500 Block of BRY...|-4623.1505267464145|         196.0|            0.0|             1.0|             0.0|        580.0|(878,[196],[1.0])|(6,[0],[1.0])| (9,[1],[1.0])|(16,[0],[1.0])| (23227,[580],[1.0])|          27.0|(24137,[196,878,8...|(24137,[196,878,8...|[2.41533997646748...|[8.36934541713234...|      27.0|\n",
      "|   ARSON|   ARSON|   Friday|   MISSION|             NONE| 15TH ST / JULIAN AV| -4623.426974000125|         196.0|            0.0|             1.0|             0.0|       1583.0|(878,[196],[1.0])|(6,[0],[1.0])| (9,[1],[1.0])|(16,[0],[1.0])|(23227,[1583],[1.0])|          27.0|(24137,[196,878,8...|(24137,[196,878,8...|[2.04398633850530...|[5.78799052850973...|      27.0|\n",
      "|   ARSON|   ARSON|   Friday|   MISSION|             NONE|3100 Block of CES...|  -4620.85093288495|         196.0|            0.0|             1.0|             0.0|       1420.0|(878,[196],[1.0])|(6,[0],[1.0])| (9,[1],[1.0])|(16,[0],[1.0])|(23227,[1420],[1.0])|          27.0|(24137,[196,878,8...|(24137,[196,878,8...|[1.57825874379473...|[3.09194094039319...|      27.0|\n",
      "|   ARSON|   ARSON|   Friday|  RICHMOND|             NONE|400 Block of 30TH AV|-4627.7727525089695|         196.0|            0.0|             9.0|             0.0|        689.0|(878,[196],[1.0])|(6,[0],[1.0])|     (9,[],[])|(16,[0],[1.0])| (23227,[689],[1.0])|          27.0|(24137,[196,878,8...|(24137,[196,878,8...|[1.78810226477265...|[3.70182267341517...|      27.0|\n",
      "|   ARSON|   ARSON|   Friday|   TARAVAL|             NONE|800 Block of LAWT...| -4624.428837595845|         196.0|            0.0|             7.0|             0.0|      13193.0|(878,[196],[1.0])|(6,[0],[1.0])| (9,[7],[1.0])|(16,[0],[1.0])|(23227,[13193],[1...|          27.0|(24137,[196,878,8...|(24137,[196,878,8...|[0.68018313593679...|[1.45960969867585...|      27.0|\n",
      "|   ARSON|   ARSON|   Monday|   MISSION|   ARREST, BOOKED|200 Block of SHOT...| -4622.983702243512|         196.0|            5.0|             1.0|             1.0|       1062.0|(878,[196],[1.0])|(6,[5],[1.0])| (9,[1],[1.0])|(16,[1],[1.0])|(23227,[1062],[1.0])|          27.0|(24137,[196,883,8...|(24137,[196,883,8...|[0.78609157827129...|[1.44228437265956...|      27.0|\n",
      "|   ARSON|   ARSON|   Monday|  NORTHERN|   ARREST, BOOKED|HEMLOCK ST / POLK ST| -4625.919715558193|         196.0|            5.0|             2.0|             1.0|       1090.0|(878,[196],[1.0])|(6,[5],[1.0])| (9,[2],[1.0])|(16,[1],[1.0])|(23227,[1090],[1.0])|          27.0|(24137,[196,883,8...|(24137,[196,883,8...|[1.33355980760996...|[2.48282814131583...|      27.0|\n",
      "|   ARSON|   ARSON| Saturday| INGLESIDE|             NONE|ELLSWORTH ST / AL...| -4619.138028127602|         196.0|            2.0|             6.0|             0.0|       4378.0|(878,[196],[1.0])|(6,[2],[1.0])| (9,[6],[1.0])|(16,[0],[1.0])|(23227,[4378],[1.0])|          27.0|(24137,[196,880,8...|(24137,[196,880,8...|[1.24722206226404...|[2.55619854606376...|      27.0|\n",
      "|   ARSON|   ARSON| Saturday| INGLESIDE|PSYCHOPATHIC CASE|100 Block of 27TH ST| -4621.141381804595|         196.0|            2.0|             6.0|             4.0|       4898.0|(878,[196],[1.0])|(6,[2],[1.0])| (9,[6],[1.0])|(16,[4],[1.0])|(23227,[4898],[1.0])|          27.0|(24137,[196,880,8...|(24137,[196,880,8...|[1.58766276814028...|[3.67054843729258...|      27.0|\n",
      "|   ARSON|   ARSON| Saturday|   TARAVAL|             NONE|1300 Block of OCE...| -4619.575604046924|         196.0|            2.0|             7.0|             0.0|       5377.0|(878,[196],[1.0])|(6,[2],[1.0])| (9,[7],[1.0])|(16,[0],[1.0])|(23227,[5377],[1.0])|          27.0|(24137,[196,880,8...|(24137,[196,880,8...|[1.57165802771657...|[3.55501511148733...|      27.0|\n",
      "|   ARSON|   ARSON|   Sunday|   MISSION|             NONE|DOLORES ST / 20TH ST| -4622.579850083418|         196.0|            6.0|             1.0|             0.0|       7242.0|(878,[196],[1.0])|    (6,[],[])| (9,[1],[1.0])|(16,[0],[1.0])|(23227,[7242],[1.0])|          27.0|(24137,[196,885,8...|(24137,[196,885,8...|[2.29045033132501...|[7.37117770995814...|      27.0|\n",
      "|   ARSON|   ARSON|   Sunday|  SOUTHERN|             NONE|200 Block of 11TH ST| -4623.827995312993|         196.0|            6.0|             0.0|             0.0|        799.0|(878,[196],[1.0])|    (6,[],[])| (9,[0],[1.0])|(16,[0],[1.0])| (23227,[799],[1.0])|          27.0|(24137,[196,884,8...|(24137,[196,884,8...|[2.28757944528666...|[7.35194205598528...|      27.0|\n",
      "|   ARSON|   ARSON| Thursday|   MISSION|   ARREST, BOOKED|1800 Block of FOL...| -4623.358036830199|         196.0|            3.0|             1.0|             1.0|        164.0|(878,[196],[1.0])|(6,[3],[1.0])| (9,[1],[1.0])|(16,[1],[1.0])| (23227,[164],[1.0])|          27.0|(24137,[196,881,8...|(24137,[196,881,8...|[1.36618769593869...|[3.02284927426467...|      27.0|\n",
      "|   ARSON|   ARSON|  Tuesday|   MISSION|             NONE|DOLORES ST / CUMB...|  -4622.68110890634|         196.0|            4.0|             1.0|             0.0|       8297.0|(878,[196],[1.0])|(6,[4],[1.0])| (9,[1],[1.0])|(16,[0],[1.0])|(23227,[8297],[1.0])|          27.0|(24137,[196,882,8...|(24137,[196,882,8...|[2.46462856712411...|[8.69658169020701...|      27.0|\n",
      "|   ARSON|   ARSON|  Tuesday|  NORTHERN|             NONE|  HAYES ST / POLK ST| -4624.649167589803|         196.0|            4.0|             2.0|             0.0|       1636.0|(878,[196],[1.0])|(6,[4],[1.0])| (9,[2],[1.0])|(16,[0],[1.0])|(23227,[1636],[1.0])|          27.0|(24137,[196,882,8...|(24137,[196,882,8...|[2.84048180432736...|[1.26607635320316...|      27.0|\n",
      "|   ARSON|   ARSON|  Tuesday|  NORTHERN|             NONE|STEINER ST / POST ST| -4626.189578179061|         196.0|            4.0|             2.0|             0.0|       4276.0|(878,[196],[1.0])|(6,[4],[1.0])| (9,[2],[1.0])|(16,[0],[1.0])|(23227,[4276],[1.0])|          27.0|(24137,[196,882,8...|(24137,[196,882,8...|[2.90031814868501...|[1.34051484341670...|      27.0|\n",
      "|   ARSON|   ARSON|  Tuesday|  SOUTHERN|             NONE|   0 Block of 6TH ST| -4624.817902975235|         196.0|            4.0|             0.0|             0.0|          6.0|(878,[196],[1.0])|(6,[4],[1.0])| (9,[0],[1.0])|(16,[0],[1.0])|   (23227,[6],[1.0])|          27.0|(24137,[196,882,8...|(24137,[196,882,8...|[1.76117294178065...|[4.15345462511964...|      27.0|\n",
      "|   ARSON|   ARSON|Wednesday|   CENTRAL|             NONE|1200 Block of UNI...| -4627.361004703806|         196.0|            1.0|             4.0|             0.0|       3789.0|(878,[196],[1.0])|(6,[1],[1.0])| (9,[4],[1.0])|(16,[0],[1.0])|(23227,[3789],[1.0])|          27.0|(24137,[196,879,8...|(24137,[196,879,8...|[2.67897843326029...|[1.09035115734730...|      27.0|\n",
      "|   ARSON|   ARSON|Wednesday|  NORTHERN|             NONE|1700 Block of SAC...| -4626.493679099729|         196.0|            1.0|             2.0|             0.0|       1739.0|(878,[196],[1.0])|(6,[1],[1.0])| (9,[2],[1.0])|(16,[0],[1.0])|(23227,[1739],[1.0])|          27.0|(24137,[196,879,8...|(24137,[196,879,8...|[2.40826985780132...|[8.32308573975340...|      27.0|\n",
      "+--------+--------+---------+----------+-----------------+--------------------+-------------------+--------------+---------------+----------------+----------------+-------------+-----------------+-------------+--------------+--------------+--------------------+--------------+--------------------+--------------------+--------------------+--------------------+----------+\n",
      "only showing top 20 rows\n",
      "\n"
     ]
    }
   ],
   "source": [
    "predictions = model.transform(test_data)\n",
    "#predictions = predictions.select('Category_index', 'prediction')\n",
    "predictions.select('Category_index', 'prediction')\n",
    "predictions.show()"
   ]
  },
  {
   "cell_type": "code",
   "execution_count": 61,
   "metadata": {},
   "outputs": [
    {
     "name": "stdout",
     "output_type": "stream",
     "text": [
      "[[7.04228683 0.63160298 0.71886709 ... 0.99883832 0.99981407 0.99767474]\n",
      " [0.765952   0.85642248 0.79185587 ... 0.99952225 1.00178606 1.00309971]\n",
      " [0.75937192 3.92294725 0.8596325  ... 0.99957884 1.00020227 1.00086189]\n",
      " ...\n",
      " [0.99901337 0.99937476 0.9993946  ... 0.99999659 0.99999693 1.00006902]\n",
      " [0.99978012 0.99985434 0.9998613  ... 0.99999914 0.99999919 1.00000136]\n",
      " [0.99993935 0.99995972 0.99996168 ... 0.99999976 0.99999977 0.99999563]]\n"
     ]
    }
   ],
   "source": [
    "import numpy as np\n",
    "\n",
    "coefficients_matrix = model.stages[-1].coefficientMatrix\n",
    "coefficients_array = coefficients_matrix.toArray()\n",
    "odds_ratios = np.exp(coefficients_array)\n",
    "print(odds_ratios)\n"
   ]
  },
  {
   "cell_type": "code",
   "execution_count": 62,
   "metadata": {},
   "outputs": [
    {
     "data": {
      "text/plain": [
       "39"
      ]
     },
     "execution_count": 62,
     "metadata": {},
     "output_type": "execute_result"
    }
   ],
   "source": [
    "len(odds_ratios)"
   ]
  },
  {
   "cell_type": "code",
   "execution_count": 22,
   "metadata": {},
   "outputs": [
    {
     "name": "stdout",
     "output_type": "stream",
     "text": [
      " \n",
      "--------------------------Accuracy-----------------------------\n",
      " \n",
      "               accuracy:0.9967394426394165\n"
     ]
    }
   ],
   "source": [
    "evaluator = MulticlassClassificationEvaluator(labelCol=\"Category_index\").setPredictionCol(\"prediction\").evaluate(predictions)\n",
    "print(' ')\n",
    "print('--------------------------Accuracy-----------------------------')\n",
    "print(' ')\n",
    "print('               accuracy:{}'.format(evaluator))\n"
   ]
  },
  {
   "cell_type": "code",
   "execution_count": 23,
   "metadata": {},
   "outputs": [
    {
     "name": "stdout",
     "output_type": "stream",
     "text": [
      "+--------------+----------+-----+\n",
      "|Category_index|prediction|count|\n",
      "+--------------+----------+-----+\n",
      "|          22.0|       5.0|  248|\n",
      "|          36.0|      36.0|   45|\n",
      "|           7.0|       7.0|12702|\n",
      "|          35.0|      35.0|   43|\n",
      "|          12.0|      12.0| 5044|\n",
      "|           3.0|      23.0|   86|\n",
      "|           1.0|       1.0|37768|\n",
      "|          31.0|      31.0|  128|\n",
      "|          10.0|      10.0| 7816|\n",
      "|          28.0|      28.0|  365|\n",
      "|          14.0|      14.0| 2993|\n",
      "|          27.0|      27.0|  429|\n",
      "|           5.0|      22.0|  446|\n",
      "|          21.0|      21.0| 1258|\n",
      "|          17.0|      17.0| 2143|\n",
      "|          26.0|      26.0|  564|\n",
      "|           2.0|       2.0|27689|\n",
      "|           1.0|       0.0|    7|\n",
      "|          24.0|      24.0|  652|\n",
      "|          23.0|      23.0|  662|\n",
      "+--------------+----------+-----+\n",
      "only showing top 20 rows\n",
      "\n",
      "balance_accuracy = 0.99990735\n"
     ]
    }
   ],
   "source": [
    "from pyspark.mllib.evaluation import MulticlassMetrics\n",
    "predictions.groupBy('Category_index', 'prediction').count().show()\n",
    "\n",
    "# Calculate the elements of the confusion matrix\n",
    "TN = predictions.filter('prediction = 0 AND Category_index  = prediction').count()\n",
    "TP = predictions.filter('prediction = 1 AND Category_index  = prediction').count()\n",
    "FN = predictions.filter('prediction = 0 AND Category_index  = 1').count()\n",
    "FP = predictions.filter('prediction = 1 AND Category_index  = 0').count()\n",
    "\n",
    "recall = TP / (TP + FN)\n",
    "precision = TN / (TN + FP)\n",
    "\n",
    "balance_accuracy = 0.5 * (recall + precision)\n",
    "\n",
    "print('balance_accuracy = {:.8f}'.format(balance_accuracy))"
   ]
  },
  {
   "cell_type": "code",
   "execution_count": 63,
   "metadata": {},
   "outputs": [
    {
     "name": "stdout",
     "output_type": "stream",
     "text": [
      "Feature: Descript_ohe, Importance: 0.30254720845283917\n",
      "Feature: DayOfWeek_ohe, Importance: 0.19087469107356056\n",
      "Feature: PdDistrict_ohe, Importance: 0.16916970521804756\n",
      "Feature: Resolution_ohe, Importance: 0.17667415026118588\n",
      "Feature: Address_ohe, Importance: 0.0\n",
      "Feature: Latlong, Importance: 0.16073424499436692\n"
     ]
    }
   ],
   "source": [
    "from pyspark.ml.classification import DecisionTreeClassifier\n",
    "\n",
    "\n",
    "dt = DecisionTreeClassifier(featuresCol='scaledFeatures', labelCol='Category_index')\n",
    "pipeline = Pipeline(stages=[assembler, scaler, dt])\n",
    "model_dt = pipeline.fit(train_data)\n",
    "importances = model_dt.stages[-1].featureImportances\n",
    "for feature, importance in zip(feature_columns, importances):\n",
    "    print(f\"Feature: {feature}, Importance: {importance}\")"
   ]
  },
  {
   "cell_type": "code",
   "execution_count": 64,
   "metadata": {},
   "outputs": [
    {
     "name": "stdout",
     "output_type": "stream",
     "text": [
      "+--------------+----------+\n",
      "|Category_index|prediction|\n",
      "+--------------+----------+\n",
      "|          27.0|       1.0|\n",
      "|          27.0|       1.0|\n",
      "|          27.0|       1.0|\n",
      "|          27.0|       1.0|\n",
      "|          27.0|       1.0|\n",
      "|          27.0|       1.0|\n",
      "|          27.0|       1.0|\n",
      "|          27.0|       1.0|\n",
      "|          27.0|       1.0|\n",
      "|          27.0|       1.0|\n",
      "+--------------+----------+\n",
      "only showing top 10 rows\n",
      "\n"
     ]
    }
   ],
   "source": [
    "predictions_dt = model_dt.transform(test_data)\n",
    "\n",
    "# Ver las predicciones\n",
    "predictions_dt.select('Category_index', 'prediction').show(10)"
   ]
  },
  {
   "cell_type": "code",
   "execution_count": 65,
   "metadata": {},
   "outputs": [
    {
     "name": "stdout",
     "output_type": "stream",
     "text": [
      "+--------+--------+---------+----------+-----------------+--------------------+-------------------+--------------+---------------+----------------+----------------+-------------+-----------------+-------------+--------------+--------------+--------------------+--------------+--------------------+--------------------+--------------------+--------------------+----------+\n",
      "|Category|Descript|DayOfWeek|PdDistrict|       Resolution|             Address|            Latlong|Descript_index|DayOfWeek_index|PdDistrict_index|Resolution_index|Address_index|     Descript_ohe|DayOfWeek_ohe|PdDistrict_ohe|Resolution_ohe|         Address_ohe|Category_index|            features|      scaledFeatures|       rawPrediction|         probability|prediction|\n",
      "+--------+--------+---------+----------+-----------------+--------------------+-------------------+--------------+---------------+----------------+----------------+-------------+-----------------+-------------+--------------+--------------+--------------------+--------------+--------------------+--------------------+--------------------+--------------------+----------+\n",
      "|   ARSON|   ARSON|   Friday|   CENTRAL|             NONE| 700 Block of BAY ST| -4628.044098595719|         196.0|            0.0|             4.0|             0.0|       4035.0|(878,[196],[1.0])|(6,[0],[1.0])| (9,[4],[1.0])|(16,[0],[1.0])|(23227,[4035],[1.0])|          27.0|(24137,[196,878,8...|(24137,[196,878,8...|[80585.0,88508.0,...|[0.16223980930254...|       1.0|\n",
      "|   ARSON|   ARSON|   Friday|   MISSION|             NONE|1500 Block of BRY...|-4623.1505267464145|         196.0|            0.0|             1.0|             0.0|        580.0|(878,[196],[1.0])|(6,[0],[1.0])| (9,[1],[1.0])|(16,[0],[1.0])| (23227,[580],[1.0])|          27.0|(24137,[196,878,8...|(24137,[196,878,8...|[80585.0,88508.0,...|[0.16223980930254...|       1.0|\n",
      "|   ARSON|   ARSON|   Friday|   MISSION|             NONE| 15TH ST / JULIAN AV| -4623.426974000125|         196.0|            0.0|             1.0|             0.0|       1583.0|(878,[196],[1.0])|(6,[0],[1.0])| (9,[1],[1.0])|(16,[0],[1.0])|(23227,[1583],[1.0])|          27.0|(24137,[196,878,8...|(24137,[196,878,8...|[80585.0,88508.0,...|[0.16223980930254...|       1.0|\n",
      "|   ARSON|   ARSON|   Friday|   MISSION|             NONE|3100 Block of CES...|  -4620.85093288495|         196.0|            0.0|             1.0|             0.0|       1420.0|(878,[196],[1.0])|(6,[0],[1.0])| (9,[1],[1.0])|(16,[0],[1.0])|(23227,[1420],[1.0])|          27.0|(24137,[196,878,8...|(24137,[196,878,8...|[80585.0,88508.0,...|[0.16223980930254...|       1.0|\n",
      "|   ARSON|   ARSON|   Friday|  RICHMOND|             NONE|400 Block of 30TH AV|-4627.7727525089695|         196.0|            0.0|             9.0|             0.0|        689.0|(878,[196],[1.0])|(6,[0],[1.0])|     (9,[],[])|(16,[0],[1.0])| (23227,[689],[1.0])|          27.0|(24137,[196,878,8...|(24137,[196,878,8...|[80585.0,88508.0,...|[0.16223980930254...|       1.0|\n",
      "|   ARSON|   ARSON|   Friday|   TARAVAL|             NONE|800 Block of LAWT...| -4624.428837595845|         196.0|            0.0|             7.0|             0.0|      13193.0|(878,[196],[1.0])|(6,[0],[1.0])| (9,[7],[1.0])|(16,[0],[1.0])|(23227,[13193],[1...|          27.0|(24137,[196,878,8...|(24137,[196,878,8...|[80585.0,88508.0,...|[0.16223980930254...|       1.0|\n",
      "|   ARSON|   ARSON|   Monday|   MISSION|   ARREST, BOOKED|200 Block of SHOT...| -4622.983702243512|         196.0|            5.0|             1.0|             1.0|       1062.0|(878,[196],[1.0])|(6,[5],[1.0])| (9,[1],[1.0])|(16,[1],[1.0])|(23227,[1062],[1.0])|          27.0|(24137,[196,883,8...|(24137,[196,883,8...|[80585.0,88508.0,...|[0.16223980930254...|       1.0|\n",
      "|   ARSON|   ARSON|   Monday|  NORTHERN|   ARREST, BOOKED|HEMLOCK ST / POLK ST| -4625.919715558193|         196.0|            5.0|             2.0|             1.0|       1090.0|(878,[196],[1.0])|(6,[5],[1.0])| (9,[2],[1.0])|(16,[1],[1.0])|(23227,[1090],[1.0])|          27.0|(24137,[196,883,8...|(24137,[196,883,8...|[80585.0,88508.0,...|[0.16223980930254...|       1.0|\n",
      "|   ARSON|   ARSON| Saturday| INGLESIDE|             NONE|ELLSWORTH ST / AL...| -4619.138028127602|         196.0|            2.0|             6.0|             0.0|       4378.0|(878,[196],[1.0])|(6,[2],[1.0])| (9,[6],[1.0])|(16,[0],[1.0])|(23227,[4378],[1.0])|          27.0|(24137,[196,880,8...|(24137,[196,880,8...|[80585.0,88508.0,...|[0.16223980930254...|       1.0|\n",
      "|   ARSON|   ARSON| Saturday| INGLESIDE|PSYCHOPATHIC CASE|100 Block of 27TH ST| -4621.141381804595|         196.0|            2.0|             6.0|             4.0|       4898.0|(878,[196],[1.0])|(6,[2],[1.0])| (9,[6],[1.0])|(16,[4],[1.0])|(23227,[4898],[1.0])|          27.0|(24137,[196,880,8...|(24137,[196,880,8...|[80585.0,88508.0,...|[0.16223980930254...|       1.0|\n",
      "|   ARSON|   ARSON| Saturday|   TARAVAL|             NONE|1300 Block of OCE...| -4619.575604046924|         196.0|            2.0|             7.0|             0.0|       5377.0|(878,[196],[1.0])|(6,[2],[1.0])| (9,[7],[1.0])|(16,[0],[1.0])|(23227,[5377],[1.0])|          27.0|(24137,[196,880,8...|(24137,[196,880,8...|[80585.0,88508.0,...|[0.16223980930254...|       1.0|\n",
      "|   ARSON|   ARSON|   Sunday|   MISSION|             NONE|DOLORES ST / 20TH ST| -4622.579850083418|         196.0|            6.0|             1.0|             0.0|       7242.0|(878,[196],[1.0])|    (6,[],[])| (9,[1],[1.0])|(16,[0],[1.0])|(23227,[7242],[1.0])|          27.0|(24137,[196,885,8...|(24137,[196,885,8...|[80585.0,88508.0,...|[0.16223980930254...|       1.0|\n",
      "|   ARSON|   ARSON|   Sunday|  SOUTHERN|             NONE|200 Block of 11TH ST| -4623.827995312993|         196.0|            6.0|             0.0|             0.0|        799.0|(878,[196],[1.0])|    (6,[],[])| (9,[0],[1.0])|(16,[0],[1.0])| (23227,[799],[1.0])|          27.0|(24137,[196,884,8...|(24137,[196,884,8...|[80585.0,88508.0,...|[0.16223980930254...|       1.0|\n",
      "|   ARSON|   ARSON| Thursday|   MISSION|   ARREST, BOOKED|1800 Block of FOL...| -4623.358036830199|         196.0|            3.0|             1.0|             1.0|        164.0|(878,[196],[1.0])|(6,[3],[1.0])| (9,[1],[1.0])|(16,[1],[1.0])| (23227,[164],[1.0])|          27.0|(24137,[196,881,8...|(24137,[196,881,8...|[80585.0,88508.0,...|[0.16223980930254...|       1.0|\n",
      "|   ARSON|   ARSON|  Tuesday|   MISSION|             NONE|DOLORES ST / CUMB...|  -4622.68110890634|         196.0|            4.0|             1.0|             0.0|       8297.0|(878,[196],[1.0])|(6,[4],[1.0])| (9,[1],[1.0])|(16,[0],[1.0])|(23227,[8297],[1.0])|          27.0|(24137,[196,882,8...|(24137,[196,882,8...|[80585.0,88508.0,...|[0.16223980930254...|       1.0|\n",
      "|   ARSON|   ARSON|  Tuesday|  NORTHERN|             NONE|  HAYES ST / POLK ST| -4624.649167589803|         196.0|            4.0|             2.0|             0.0|       1636.0|(878,[196],[1.0])|(6,[4],[1.0])| (9,[2],[1.0])|(16,[0],[1.0])|(23227,[1636],[1.0])|          27.0|(24137,[196,882,8...|(24137,[196,882,8...|[80585.0,88508.0,...|[0.16223980930254...|       1.0|\n",
      "|   ARSON|   ARSON|  Tuesday|  NORTHERN|             NONE|STEINER ST / POST ST| -4626.189578179061|         196.0|            4.0|             2.0|             0.0|       4276.0|(878,[196],[1.0])|(6,[4],[1.0])| (9,[2],[1.0])|(16,[0],[1.0])|(23227,[4276],[1.0])|          27.0|(24137,[196,882,8...|(24137,[196,882,8...|[80585.0,88508.0,...|[0.16223980930254...|       1.0|\n",
      "|   ARSON|   ARSON|  Tuesday|  SOUTHERN|             NONE|   0 Block of 6TH ST| -4624.817902975235|         196.0|            4.0|             0.0|             0.0|          6.0|(878,[196],[1.0])|(6,[4],[1.0])| (9,[0],[1.0])|(16,[0],[1.0])|   (23227,[6],[1.0])|          27.0|(24137,[196,882,8...|(24137,[196,882,8...|[80585.0,88508.0,...|[0.16223980930254...|       1.0|\n",
      "|   ARSON|   ARSON|Wednesday|   CENTRAL|             NONE|1200 Block of UNI...| -4627.361004703806|         196.0|            1.0|             4.0|             0.0|       3789.0|(878,[196],[1.0])|(6,[1],[1.0])| (9,[4],[1.0])|(16,[0],[1.0])|(23227,[3789],[1.0])|          27.0|(24137,[196,879,8...|(24137,[196,879,8...|[80585.0,88508.0,...|[0.16223980930254...|       1.0|\n",
      "|   ARSON|   ARSON|Wednesday|  NORTHERN|             NONE|1700 Block of SAC...| -4626.493679099729|         196.0|            1.0|             2.0|             0.0|       1739.0|(878,[196],[1.0])|(6,[1],[1.0])| (9,[2],[1.0])|(16,[0],[1.0])|(23227,[1739],[1.0])|          27.0|(24137,[196,879,8...|(24137,[196,879,8...|[80585.0,88508.0,...|[0.16223980930254...|       1.0|\n",
      "+--------+--------+---------+----------+-----------------+--------------------+-------------------+--------------+---------------+----------------+----------------+-------------+-----------------+-------------+--------------+--------------+--------------------+--------------+--------------------+--------------------+--------------------+--------------------+----------+\n",
      "only showing top 20 rows\n",
      "\n"
     ]
    }
   ],
   "source": [
    "predictions_dt.show()"
   ]
  },
  {
   "cell_type": "code",
   "execution_count": 69,
   "metadata": {},
   "outputs": [
    {
     "name": "stdout",
     "output_type": "stream",
     "text": [
      " \n",
      "--------------------------Accuracy-----------------------------\n",
      " \n",
      "               accuracy:0.31997874157596834\n"
     ]
    }
   ],
   "source": [
    "evaluator_dt = MulticlassClassificationEvaluator(labelCol=\"Category_index\").setPredictionCol(\"prediction\").evaluate(predictions_dt)\n",
    "print(' ')\n",
    "print('--------------------------Accuracy-----------------------------')\n",
    "print(' ')\n",
    "print('               accuracy:{}'.format(evaluator_dt))"
   ]
  }
 ],
 "metadata": {
  "kernelspec": {
   "display_name": "Python 3",
   "language": "python",
   "name": "python3"
  },
  "language_info": {
   "codemirror_mode": {
    "name": "ipython",
    "version": 3
   },
   "file_extension": ".py",
   "mimetype": "text/x-python",
   "name": "python",
   "nbconvert_exporter": "python",
   "pygments_lexer": "ipython3",
   "version": "3.10.9"
  },
  "orig_nbformat": 4
 },
 "nbformat": 4,
 "nbformat_minor": 2
}
